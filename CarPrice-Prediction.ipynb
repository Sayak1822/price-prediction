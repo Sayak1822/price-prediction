{
 "cells": [
  {
   "cell_type": "code",
   "execution_count": null,
   "id": "b01dccbe",
   "metadata": {},
   "outputs": [],
   "source": []
  },
  {
   "cell_type": "code",
   "execution_count": 1,
   "id": "0b9bf717",
   "metadata": {},
   "outputs": [
    {
     "data": {
      "text/html": [
       "<div>\n",
       "<style scoped>\n",
       "    .dataframe tbody tr th:only-of-type {\n",
       "        vertical-align: middle;\n",
       "    }\n",
       "\n",
       "    .dataframe tbody tr th {\n",
       "        vertical-align: top;\n",
       "    }\n",
       "\n",
       "    .dataframe thead th {\n",
       "        text-align: right;\n",
       "    }\n",
       "</style>\n",
       "<table border=\"1\" class=\"dataframe\">\n",
       "  <thead>\n",
       "    <tr style=\"text-align: right;\">\n",
       "      <th></th>\n",
       "      <th>Name</th>\n",
       "      <th>Year</th>\n",
       "      <th>Miles</th>\n",
       "      <th>Price</th>\n",
       "    </tr>\n",
       "  </thead>\n",
       "  <tbody>\n",
       "    <tr>\n",
       "      <th>0</th>\n",
       "      <td>Chevrolet Trax</td>\n",
       "      <td>2018</td>\n",
       "      <td>41946</td>\n",
       "      <td>16990</td>\n",
       "    </tr>\n",
       "    <tr>\n",
       "      <th>1</th>\n",
       "      <td>GMC Terrain</td>\n",
       "      <td>2020</td>\n",
       "      <td>45328</td>\n",
       "      <td>23990</td>\n",
       "    </tr>\n",
       "    <tr>\n",
       "      <th>2</th>\n",
       "      <td>Jeep Wrangler</td>\n",
       "      <td>2012</td>\n",
       "      <td>81068</td>\n",
       "      <td>21590</td>\n",
       "    </tr>\n",
       "    <tr>\n",
       "      <th>3</th>\n",
       "      <td>Jeep Renegade</td>\n",
       "      <td>2019</td>\n",
       "      <td>35372</td>\n",
       "      <td>21590</td>\n",
       "    </tr>\n",
       "    <tr>\n",
       "      <th>4</th>\n",
       "      <td>BMW X</td>\n",
       "      <td>20173</td>\n",
       "      <td>68992</td>\n",
       "      <td>22990</td>\n",
       "    </tr>\n",
       "    <tr>\n",
       "      <th>...</th>\n",
       "      <td>...</td>\n",
       "      <td>...</td>\n",
       "      <td>...</td>\n",
       "      <td>...</td>\n",
       "    </tr>\n",
       "    <tr>\n",
       "      <th>21995</th>\n",
       "      <td>Honda Accord</td>\n",
       "      <td>2014</td>\n",
       "      <td>98085</td>\n",
       "      <td>17590</td>\n",
       "    </tr>\n",
       "    <tr>\n",
       "      <th>21996</th>\n",
       "      <td>Dodge Charger</td>\n",
       "      <td>2016</td>\n",
       "      <td>62616</td>\n",
       "      <td>23990</td>\n",
       "    </tr>\n",
       "    <tr>\n",
       "      <th>21997</th>\n",
       "      <td>Ford Taurus</td>\n",
       "      <td>2013</td>\n",
       "      <td>50345</td>\n",
       "      <td>16990</td>\n",
       "    </tr>\n",
       "    <tr>\n",
       "      <th>21998</th>\n",
       "      <td>Toyota Corolla Hatchback</td>\n",
       "      <td>2020</td>\n",
       "      <td>27945</td>\n",
       "      <td>23990</td>\n",
       "    </tr>\n",
       "    <tr>\n",
       "      <th>21999</th>\n",
       "      <td>Honda Civic</td>\n",
       "      <td>2012</td>\n",
       "      <td>70676</td>\n",
       "      <td>14990</td>\n",
       "    </tr>\n",
       "  </tbody>\n",
       "</table>\n",
       "<p>22000 rows × 4 columns</p>\n",
       "</div>"
      ],
      "text/plain": [
       "                            Name   Year  Miles  Price\n",
       "0                 Chevrolet Trax   2018  41946  16990\n",
       "1                    GMC Terrain   2020  45328  23990\n",
       "2                  Jeep Wrangler   2012  81068  21590\n",
       "3                  Jeep Renegade   2019  35372  21590\n",
       "4                          BMW X  20173  68992  22990\n",
       "...                          ...    ...    ...    ...\n",
       "21995               Honda Accord   2014  98085  17590\n",
       "21996              Dodge Charger   2016  62616  23990\n",
       "21997                Ford Taurus   2013  50345  16990\n",
       "21998   Toyota Corolla Hatchback   2020  27945  23990\n",
       "21999                Honda Civic   2012  70676  14990\n",
       "\n",
       "[22000 rows x 4 columns]"
      ]
     },
     "execution_count": 1,
     "metadata": {},
     "output_type": "execute_result"
    }
   ],
   "source": [
    "import pandas as pd\n",
    "data=pd.read_csv(r\"D:\\carvana.csv\")\n",
    "data"
   ]
  },
  {
   "cell_type": "code",
   "execution_count": 3,
   "id": "14c8928b",
   "metadata": {},
   "outputs": [
    {
     "data": {
      "text/plain": [
       "(22000, 4)"
      ]
     },
     "execution_count": 3,
     "metadata": {},
     "output_type": "execute_result"
    }
   ],
   "source": [
    "data.shape"
   ]
  },
  {
   "cell_type": "code",
   "execution_count": 4,
   "id": "d703f499",
   "metadata": {},
   "outputs": [
    {
     "data": {
      "text/plain": [
       "<AxesSubplot:title={'center':'Price vs Miles'}, xlabel='Miles', ylabel='Price'>"
      ]
     },
     "execution_count": 4,
     "metadata": {},
     "output_type": "execute_result"
    },
    {
     "data": {
      "image/png": "[encoded data removed]",
      "text/plain": [
       "<Figure size 640x480 with 1 Axes>"
      ]
     },
     "metadata": {},
     "output_type": "display_data"
    }
   ],
   "source": [
    "data.plot.scatter(x='Miles',y='Price',title='Price vs Miles')"
   ]
  },
  {
   "cell_type": "code",
   "execution_count": 5,
   "id": "e116b079",
   "metadata": {},
   "outputs": [
    {
     "name": "stdout",
     "output_type": "stream",
     "text": [
      "           Year     Miles     Price\n",
      "Year   1.000000 -0.028941  0.141570\n",
      "Miles -0.028941  1.000000 -0.474124\n",
      "Price  0.141570 -0.474124  1.000000\n"
     ]
    }
   ],
   "source": [
    "print(data.corr())"
   ]
  },
  {
   "cell_type": "code",
   "execution_count": 6,
   "id": "827524b1",
   "metadata": {},
   "outputs": [
    {
     "name": "stdout",
     "output_type": "stream",
     "text": [
      "               Year          Miles          Price\n",
      "count  2.200000e+04   22000.000000   22000.000000\n",
      "mean   1.946648e+05   54445.697318   20707.285136\n",
      "std    1.630370e+06   25685.933926    6535.580304\n",
      "min    2.009000e+03      53.000000   10990.000000\n",
      "25%    2.014000e+03   35512.000000   16590.000000\n",
      "50%    2.017000e+03   51890.000000   19590.000000\n",
      "75%    2.020000e+03   73191.000000   22990.000000\n",
      "max    2.022350e+07  120167.000000  102990.000000\n"
     ]
    }
   ],
   "source": [
    "print(data.describe())"
   ]
  },
  {
   "cell_type": "code",
   "execution_count": 33,
   "id": "ab3fc807",
   "metadata": {},
   "outputs": [],
   "source": [
    "y=data['Price'].values.reshape(-1,1)\n",
    "x=data['Year'].values.reshape(-1,1)"
   ]
  },
  {
   "cell_type": "code",
   "execution_count": 34,
   "id": "c2e67ad3",
   "metadata": {},
   "outputs": [
    {
     "name": "stdout",
     "output_type": "stream",
     "text": [
      "[2018 2020 2012 ... 2013 2020 2012]\n"
     ]
    }
   ],
   "source": [
    "print(data['Year'].values)"
   ]
  },
  {
   "cell_type": "code",
   "execution_count": 9,
   "id": "ac3b315d",
   "metadata": {},
   "outputs": [
    {
     "name": "stdout",
     "output_type": "stream",
     "text": [
      "(22000,)\n"
     ]
    }
   ],
   "source": [
    "print(data['Miles'].values.shape)"
   ]
  },
  {
   "cell_type": "code",
   "execution_count": 35,
   "id": "e76b7a90",
   "metadata": {},
   "outputs": [
    {
     "name": "stdout",
     "output_type": "stream",
     "text": [
      "(22000, 1)\n"
     ]
    }
   ],
   "source": [
    "print(x.shape)"
   ]
  },
  {
   "cell_type": "code",
   "execution_count": 36,
   "id": "ae095016",
   "metadata": {},
   "outputs": [
    {
     "name": "stdout",
     "output_type": "stream",
     "text": [
      "[[2018]\n",
      " [2020]\n",
      " [2012]\n",
      " ...\n",
      " [2013]\n",
      " [2020]\n",
      " [2012]]\n"
     ]
    }
   ],
   "source": [
    "print(x)"
   ]
  },
  {
   "cell_type": "code",
   "execution_count": 13,
   "id": "2956f433",
   "metadata": {},
   "outputs": [],
   "source": [
    "from sklearn.model_selection import train_test_split\n",
    "x_train,x_test,y_train,y_test=train_test_split(x,y,test_size=0.2,random_state=42)"
   ]
  },
  {
   "cell_type": "code",
   "execution_count": 37,
   "id": "9b22ef95",
   "metadata": {},
   "outputs": [
    {
     "name": "stdout",
     "output_type": "stream",
     "text": [
      "[[ 2338]\n",
      " [ 1804]\n",
      " [51839]\n",
      " ...\n",
      " [10350]\n",
      " [91777]\n",
      " [39976]]\n"
     ]
    }
   ],
   "source": [
    "print(x_train)"
   ]
  },
  {
   "cell_type": "code",
   "execution_count": 38,
   "id": "48a4c7e4",
   "metadata": {},
   "outputs": [
    {
     "name": "stdout",
     "output_type": "stream",
     "text": [
      "[[35590]\n",
      " [30590]\n",
      " [24590]\n",
      " ...\n",
      " [38590]\n",
      " [14590]\n",
      " [17990]]\n"
     ]
    }
   ],
   "source": [
    "print(y_train)"
   ]
  },
  {
   "cell_type": "code",
   "execution_count": 16,
   "id": "8226d930",
   "metadata": {},
   "outputs": [],
   "source": [
    "from sklearn.linear_model import LinearRegression\n",
    "r=LinearRegression()"
   ]
  },
  {
   "cell_type": "code",
   "execution_count": 39,
   "id": "3fdb4217",
   "metadata": {},
   "outputs": [
    {
     "data": {
      "text/plain": [
       "LinearRegression()"
      ]
     },
     "execution_count": 39,
     "metadata": {},
     "output_type": "execute_result"
    }
   ],
   "source": [
    "r.fit(x_train,y_train)"
   ]
  },
  {
   "cell_type": "code",
   "execution_count": 40,
   "id": "47eefa82",
   "metadata": {},
   "outputs": [
    {
     "name": "stdout",
     "output_type": "stream",
     "text": [
      "[27281.81148886]\n"
     ]
    }
   ],
   "source": [
    "print(r.intercept_)"
   ]
  },
  {
   "cell_type": "code",
   "execution_count": 41,
   "id": "7d8f666d",
   "metadata": {},
   "outputs": [
    {
     "name": "stdout",
     "output_type": "stream",
     "text": [
      "[[-0.1206248]]\n"
     ]
    }
   ],
   "source": [
    "print(r.coef_)"
   ]
  },
  {
   "cell_type": "code",
   "execution_count": 21,
   "id": "b6a4418f",
   "metadata": {},
   "outputs": [],
   "source": [
    "y_pred=r.predict(x_test)"
   ]
  },
  {
   "cell_type": "code",
   "execution_count": 22,
   "id": "62e676cd",
   "metadata": {},
   "outputs": [
    {
     "ename": "SyntaxError",
     "evalue": "invalid syntax (4105709107.py, line 1)",
     "output_type": "error",
     "traceback": [
      "\u001b[1;36m  File \u001b[1;32m\"C:\\Users\\SAYAK NAG\\AppData\\Local\\Temp\\ipykernel_10088\\4105709107.py\"\u001b[1;36m, line \u001b[1;32m1\u001b[0m\n\u001b[1;33m    data_preds=pd.DataFrame({'Actual':y_test.squeeze().'Predicted':y_pred.squeeze()})\u001b[0m\n\u001b[1;37m                                                       ^\u001b[0m\n\u001b[1;31mSyntaxError\u001b[0m\u001b[1;31m:\u001b[0m invalid syntax\n"
     ]
    }
   ],
   "source": [
    "data_preds=pd.DataFrame({'Actual':y_test.squeeze().'Predicted':y_pred.squeeze()})"
   ]
  },
  {
   "cell_type": "code",
   "execution_count": 25,
   "id": "c7e00e97",
   "metadata": {},
   "outputs": [
    {
     "name": "stdout",
     "output_type": "stream",
     "text": [
      "[[27280.66555321]]\n"
     ]
    }
   ],
   "source": [
    "def calc(slope, intercept, miles):\n",
    "    return slope*miles+intercept\n",
    "\n",
    "score = calc(r.coef_, r.intercept_, 9.5)\n",
    "print(score)"
   ]
  },
  {
   "cell_type": "code",
   "execution_count": 26,
   "id": "01da36ae",
   "metadata": {},
   "outputs": [],
   "source": [
    "data_preds = pd.DataFrame({'Actual': y_test.squeeze(), 'Predicted': y_pred.squeeze()})"
   ]
  },
  {
   "cell_type": "code",
   "execution_count": 42,
   "id": "a8c91c62",
   "metadata": {},
   "outputs": [
    {
     "name": "stdout",
     "output_type": "stream",
     "text": [
      "      Actual     Predicted\n",
      "0      16990  24144.239690\n",
      "1      14590  17617.231500\n",
      "2      26703  21060.466554\n",
      "3      14990  18551.108739\n",
      "4      18990  15821.490031\n",
      "...      ...           ...\n",
      "4395   14990  20888.817457\n",
      "4396   16590  15361.065150\n",
      "4397   19990  21383.620407\n",
      "4398   14990  18592.603672\n",
      "4399   17990  15725.834560\n",
      "\n",
      "[4400 rows x 2 columns]\n"
     ]
    }
   ],
   "source": [
    "print(data_preds)"
   ]
  },
  {
   "cell_type": "code",
   "execution_count": 28,
   "id": "d1030a14",
   "metadata": {},
   "outputs": [],
   "source": [
    "from sklearn.metrics import mean_absolute_error, mean_squared_error"
   ]
  },
  {
   "cell_type": "code",
   "execution_count": 29,
   "id": "cf053190",
   "metadata": {},
   "outputs": [],
   "source": [
    "import numpy as np\n",
    "mae = mean_absolute_error(y_test, y_pred)\n",
    "mse = mean_squared_error(y_test, y_pred)\n",
    "rmse = np.sqrt(mse)"
   ]
  },
  {
   "cell_type": "code",
   "execution_count": 30,
   "id": "2c441a05",
   "metadata": {},
   "outputs": [
    {
     "name": "stdout",
     "output_type": "stream",
     "text": [
      "Mean absolute error: 3705.46\n",
      "Mean squared error: 33471253.25\n",
      "Root mean squared error: 5785.43\n"
     ]
    }
   ],
   "source": [
    "print(f'Mean absolute error: {mae:.2f}')\n",
    "print(f'Mean squared error: {mse:.2f}')\n",
    "print(f'Root mean squared error: {rmse:.2f}')"
   ]
  },
  {
   "cell_type": "code",
   "execution_count": 31,
   "id": "5c2eb98d",
   "metadata": {},
   "outputs": [
    {
     "data": {
      "text/html": [
       "<div>\n",
       "<style scoped>\n",
       "    .dataframe tbody tr th:only-of-type {\n",
       "        vertical-align: middle;\n",
       "    }\n",
       "\n",
       "    .dataframe tbody tr th {\n",
       "        vertical-align: top;\n",
       "    }\n",
       "\n",
       "    .dataframe thead th {\n",
       "        text-align: right;\n",
       "    }\n",
       "</style>\n",
       "<table border=\"1\" class=\"dataframe\">\n",
       "  <thead>\n",
       "    <tr style=\"text-align: right;\">\n",
       "      <th></th>\n",
       "      <th>Name</th>\n",
       "      <th>Year</th>\n",
       "      <th>Miles</th>\n",
       "      <th>Price</th>\n",
       "    </tr>\n",
       "  </thead>\n",
       "  <tbody>\n",
       "    <tr>\n",
       "      <th>0</th>\n",
       "      <td>Chevrolet Trax</td>\n",
       "      <td>2018</td>\n",
       "      <td>41946</td>\n",
       "      <td>16990</td>\n",
       "    </tr>\n",
       "    <tr>\n",
       "      <th>1</th>\n",
       "      <td>GMC Terrain</td>\n",
       "      <td>2020</td>\n",
       "      <td>45328</td>\n",
       "      <td>23990</td>\n",
       "    </tr>\n",
       "    <tr>\n",
       "      <th>2</th>\n",
       "      <td>Jeep Wrangler</td>\n",
       "      <td>2012</td>\n",
       "      <td>81068</td>\n",
       "      <td>21590</td>\n",
       "    </tr>\n",
       "    <tr>\n",
       "      <th>3</th>\n",
       "      <td>Jeep Renegade</td>\n",
       "      <td>2019</td>\n",
       "      <td>35372</td>\n",
       "      <td>21590</td>\n",
       "    </tr>\n",
       "    <tr>\n",
       "      <th>4</th>\n",
       "      <td>BMW X</td>\n",
       "      <td>20173</td>\n",
       "      <td>68992</td>\n",
       "      <td>22990</td>\n",
       "    </tr>\n",
       "    <tr>\n",
       "      <th>...</th>\n",
       "      <td>...</td>\n",
       "      <td>...</td>\n",
       "      <td>...</td>\n",
       "      <td>...</td>\n",
       "    </tr>\n",
       "    <tr>\n",
       "      <th>21995</th>\n",
       "      <td>Honda Accord</td>\n",
       "      <td>2014</td>\n",
       "      <td>98085</td>\n",
       "      <td>17590</td>\n",
       "    </tr>\n",
       "    <tr>\n",
       "      <th>21996</th>\n",
       "      <td>Dodge Charger</td>\n",
       "      <td>2016</td>\n",
       "      <td>62616</td>\n",
       "      <td>23990</td>\n",
       "    </tr>\n",
       "    <tr>\n",
       "      <th>21997</th>\n",
       "      <td>Ford Taurus</td>\n",
       "      <td>2013</td>\n",
       "      <td>50345</td>\n",
       "      <td>16990</td>\n",
       "    </tr>\n",
       "    <tr>\n",
       "      <th>21998</th>\n",
       "      <td>Toyota Corolla Hatchback</td>\n",
       "      <td>2020</td>\n",
       "      <td>27945</td>\n",
       "      <td>23990</td>\n",
       "    </tr>\n",
       "    <tr>\n",
       "      <th>21999</th>\n",
       "      <td>Honda Civic</td>\n",
       "      <td>2012</td>\n",
       "      <td>70676</td>\n",
       "      <td>14990</td>\n",
       "    </tr>\n",
       "  </tbody>\n",
       "</table>\n",
       "<p>22000 rows × 4 columns</p>\n",
       "</div>"
      ],
      "text/plain": [
       "                            Name   Year  Miles  Price\n",
       "0                 Chevrolet Trax   2018  41946  16990\n",
       "1                    GMC Terrain   2020  45328  23990\n",
       "2                  Jeep Wrangler   2012  81068  21590\n",
       "3                  Jeep Renegade   2019  35372  21590\n",
       "4                          BMW X  20173  68992  22990\n",
       "...                          ...    ...    ...    ...\n",
       "21995               Honda Accord   2014  98085  17590\n",
       "21996              Dodge Charger   2016  62616  23990\n",
       "21997                Ford Taurus   2013  50345  16990\n",
       "21998   Toyota Corolla Hatchback   2020  27945  23990\n",
       "21999                Honda Civic   2012  70676  14990\n",
       "\n",
       "[22000 rows x 4 columns]"
      ]
     },
     "execution_count": 31,
     "metadata": {},
     "output_type": "execute_result"
    }
   ],
   "source": [
    "data"
   ]
  },
  {
   "cell_type": "code",
   "execution_count": 32,
   "id": "315eb586",
   "metadata": {},
   "outputs": [
    {
     "data": {
      "text/plain": [
       "<AxesSubplot:title={'center':'Price vs Year'}, xlabel='Year', ylabel='Price'>"
      ]
     },
     "execution_count": 32,
     "metadata": {},
     "output_type": "execute_result"
    },
    {
     "data": {
      "image/png": "[encoded data removed]",
      "text/plain": [
       "<Figure size 640x480 with 1 Axes>"
      ]
     },
     "metadata": {},
     "output_type": "display_data"
    }
   ],
   "source": [
    "data.plot.scatter(x='Year',y='Price',title='Price vs Year')"
   ]
  },
  {
   "cell_type": "code",
   "execution_count": null,
   "id": "4ee8c150",
   "metadata": {},
   "outputs": [],
   "source": []
  }
 ],
 "metadata": {
  "kernelspec": {
   "display_name": "Python 3 (ipykernel)",
   "language": "python",
   "name": "python3"
  },
  "language_info": {
   "codemirror_mode": {
    "name": "ipython",
    "version": 3
   },
   "file_extension": ".py",
   "mimetype": "text/x-python",
   "name": "python",
   "nbconvert_exporter": "python",
   "pygments_lexer": "ipython3",
   "version": "3.9.13"
  }
 },
 "nbformat": 4,
 "nbformat_minor": 5
}
